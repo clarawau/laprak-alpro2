{
 "cells": [
  {
   "cell_type": "code",
   "execution_count": 1,
   "id": "07700484",
   "metadata": {},
   "outputs": [
    {
     "name": "stdout",
     "output_type": "stream",
     "text": [
      "masukan tinggi anda : 158\n",
      "masukan BMI yang diharapkan(kg) : 40\n",
      "berat badan anda yang diperlukan 998560.0 kilogram\n"
     ]
    }
   ],
   "source": [
    "def menghitung_berat_badan(tinggi, BMI):\n",
    "    berat = BMI * tinggi ** 2\n",
    "    return berat\n",
    "tinggi = float(input('masukan tinggi anda : '))\n",
    "BMI = float(input('masukan BMI yang diharapkan(kg) : '))\n",
    "berat = menghitung_berat_badan(tinggi,BMI)\n",
    "print(\"berat badan anda yang diperlukan\", round(berat,2), \"kilogram\")"
   ]
  },
  {
   "cell_type": "code",
   "execution_count": 2,
   "id": "f2bd7a87",
   "metadata": {},
   "outputs": [
    {
     "name": "stdout",
     "output_type": "stream",
     "text": [
      "masukan bilangan nilai x (bilangan bulat) : 80\n",
      "hasil dari f80, adalah 1024160.1875\n"
     ]
    }
   ],
   "source": [
    "def fungsi (x):\n",
    "      fx = (2*(x**3))+(2*(x))+(15/x)\n",
    "      return(fx)\n",
    "x = (int(input('masukan bilangan nilai x (bilangan bulat) : ')))\n",
    "hasil_dari_fungsi = fungsi(x)\n",
    "print(f\"hasil dari f{x}, adalah {hasil_dari_fungsi}\" )"
   ]
  },
  {
   "cell_type": "code",
   "execution_count": 3,
   "id": "a8fa5535",
   "metadata": {},
   "outputs": [
    {
     "name": "stdout",
     "output_type": "stream",
     "text": [
      "masukan gaji per jam yang diiginkan : 8000000\n",
      "masukan jumlah jam kerja per minggu : 5\n",
      "1. pendapatan Pendapatan Budi selama libur musim panas sebelum melakukan pembayaran pajak :  200000000.0\n",
      "2. pendapatan budi selama libur musim panas setelah melakukan pembayaran pajak :  172000000.0\n",
      "3. jumlah uang akan budi habiskan untuk membeli pakain dan aksesoris :  17200000.0\n",
      "4. jumlah uang yang akan budi habiskan untuk membeli alat tulis :  172000.0\n",
      "5. jumlah uang yang akan budi sedekahkan :  43000.0\n",
      "6. jumlah uang yang akan diterima anak yatim piatu :  42900\n",
      "7. jumlah uang yang akan diterima kaum dhuafa 100.0\n"
     ]
    }
   ],
   "source": [
    "def hitung_pendapatan_budi(gaji_per_jam,jam_kerja_per_minggu):\n",
    "    gaji_sebelum_pajak = gaji_per_jam * jam_kerja_per_minggu * 5\n",
    "    pembayaran_pajak = gaji_sebelum_pajak * 14 / 100\n",
    "    gaji_sesudah_pajak = gaji_sebelum_pajak - pembayaran_pajak \n",
    "    pembelian_baju_dan_aksesoris = gaji_sesudah_pajak * 10/100\n",
    "    untuk_membeli_alat_tulis = pembelian_baju_dan_aksesoris * 1/100\n",
    "    untuk_sedekah = untuk_membeli_alat_tulis * 25/100\n",
    "    untuk_anak_yatim = int(untuk_sedekah/300) * 300\n",
    "    untuk_kaum_dhuafa = untuk_sedekah - untuk_anak_yatim\n",
    "    return gaji_sebelum_pajak, pembayaran_pajak, gaji_sesudah_pajak, pembelian_baju_dan_aksesoris,untuk_membeli_alat_tulis, untuk_sedekah, untuk_anak_yatim, untuk_kaum_dhuafa\n",
    "    \n",
    "gaji_per_jam = float(input(\"masukan gaji per jam yang diiginkan : \"))\n",
    "jam_kerja_per_minggu = float(input(\"masukan jumlah jam kerja per minggu : \"))\n",
    "\n",
    "A, B, C, D, E, F, G, H = hitung_pendapatan_budi(gaji_per_jam, jam_kerja_per_minggu)\n",
    "\n",
    "print(\"1. pendapatan Pendapatan Budi selama libur musim panas sebelum melakukan pembayaran pajak : \", A)\n",
    "print(\"2. pendapatan budi selama libur musim panas setelah melakukan pembayaran pajak : \", C)\n",
    "print(\"3. jumlah uang akan budi habiskan untuk membeli pakain dan aksesoris : \", D)\n",
    "print(\"4. jumlah uang yang akan budi habiskan untuk membeli alat tulis : \", E)\n",
    "print(\"5. jumlah uang yang akan budi sedekahkan : \", F)\n",
    "print(\"6. jumlah uang yang akan diterima anak yatim piatu : \", G)\n",
    "print(\"7. jumlah uang yang akan diterima kaum dhuafa\", H)"
   ]
  },
  {
   "cell_type": "code",
   "execution_count": null,
   "id": "cc890b5e",
   "metadata": {},
   "outputs": [],
   "source": []
  }
 ],
 "metadata": {
  "kernelspec": {
   "display_name": "Python 3 (ipykernel)",
   "language": "python",
   "name": "python3"
  },
  "language_info": {
   "codemirror_mode": {
    "name": "ipython",
    "version": 3
   },
   "file_extension": ".py",
   "mimetype": "text/x-python",
   "name": "python",
   "nbconvert_exporter": "python",
   "pygments_lexer": "ipython3",
   "version": "3.11.5"
  }
 },
 "nbformat": 4,
 "nbformat_minor": 5
}
